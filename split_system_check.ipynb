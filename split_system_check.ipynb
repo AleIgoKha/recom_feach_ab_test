{
 "cells": [
  {
   "cell_type": "code",
   "execution_count": 8,
   "id": "462d64e3-f57d-4af5-8090-29deb901e23e",
   "metadata": {},
   "outputs": [],
   "source": [
    "# importing needed libs\n",
    "\n",
    "import pandas as pd\n",
    "# import pandahouse\n",
    "from scipy import stats\n",
    "import seaborn as sns"
   ]
  },
  {
   "cell_type": "code",
   "execution_count": 9,
   "id": "266b9484-55f5-4a74-b0ec-9d1bab75c22c",
   "metadata": {
    "tags": []
   },
   "outputs": [],
   "source": [
    "# connecting needed data\n",
    "\n",
    "connection = {\n",
    "    'host': '************',\n",
    "    'password': '********',\n",
    "    'user': '****',\n",
    "    'database': '***********'\n",
    "}\n",
    "\n",
    "query = \"\"\"\n",
    "SELECT\n",
    "  user_id,\n",
    "  exp_group,\n",
    "  ROUND(likes / views, 2) AS ctr\n",
    "FROM\n",
    "  (\n",
    "    SELECT\n",
    "      user_id,\n",
    "      exp_group,\n",
    "      sum(action = 'view') AS views,\n",
    "      sum(action = 'like') AS likes\n",
    "    FROM\n",
    "      simulator_20241220.feed_actions\n",
    "    WHERE\n",
    "      toDate(time) BETWEEN '2024-11-15'\n",
    "      AND '2024-11-21'\n",
    "      AND exp_group in (2, 3)\n",
    "    GROUP BY\n",
    "      user_id,\n",
    "      exp_group\n",
    "  )\"\"\"\n",
    "\n",
    "# df = pandahouse.read_clickhouse(query, connection=connection)\n",
    "\n"
   ]
  },
  {
   "cell_type": "code",
   "execution_count": 10,
   "id": "09cc8734-6efd-4a96-9843-d3fa37111300",
   "metadata": {},
   "outputs": [
    {
     "data": {
      "text/html": [
       "<div>\n",
       "<style scoped>\n",
       "    .dataframe tbody tr th:only-of-type {\n",
       "        vertical-align: middle;\n",
       "    }\n",
       "\n",
       "    .dataframe tbody tr th {\n",
       "        vertical-align: top;\n",
       "    }\n",
       "\n",
       "    .dataframe thead th {\n",
       "        text-align: right;\n",
       "    }\n",
       "</style>\n",
       "<table border=\"1\" class=\"dataframe\">\n",
       "  <thead>\n",
       "    <tr style=\"text-align: right;\">\n",
       "      <th></th>\n",
       "      <th>user_id</th>\n",
       "      <th>exp_group</th>\n",
       "      <th>ctr</th>\n",
       "    </tr>\n",
       "  </thead>\n",
       "  <tbody>\n",
       "    <tr>\n",
       "      <th>0</th>\n",
       "      <td>115383</td>\n",
       "      <td>3</td>\n",
       "      <td>0.15</td>\n",
       "    </tr>\n",
       "    <tr>\n",
       "      <th>1</th>\n",
       "      <td>10326</td>\n",
       "      <td>3</td>\n",
       "      <td>0.18</td>\n",
       "    </tr>\n",
       "    <tr>\n",
       "      <th>2</th>\n",
       "      <td>123580</td>\n",
       "      <td>3</td>\n",
       "      <td>0.20</td>\n",
       "    </tr>\n",
       "    <tr>\n",
       "      <th>3</th>\n",
       "      <td>131473</td>\n",
       "      <td>2</td>\n",
       "      <td>0.19</td>\n",
       "    </tr>\n",
       "    <tr>\n",
       "      <th>4</th>\n",
       "      <td>23985</td>\n",
       "      <td>2</td>\n",
       "      <td>0.27</td>\n",
       "    </tr>\n",
       "  </tbody>\n",
       "</table>\n",
       "</div>"
      ],
      "text/plain": [
       "   user_id  exp_group   ctr\n",
       "0   115383          3  0.15\n",
       "1    10326          3  0.18\n",
       "2   123580          3  0.20\n",
       "3   131473          2  0.19\n",
       "4    23985          2  0.27"
      ]
     },
     "execution_count": 10,
     "metadata": {},
     "output_type": "execute_result"
    }
   ],
   "source": [
    "df = pd.read_csv(\"split_system_check.csv\")\n",
    "df.head()"
   ]
  },
  {
   "cell_type": "code",
   "execution_count": 11,
   "id": "4711779d-dd1a-4aad-936c-993b8328aa79",
   "metadata": {},
   "outputs": [],
   "source": [
    "# deviding the data into two groups by exp_group column\n",
    "\n",
    "second_group_ctr = df[df.exp_group == 2].ctr\n",
    "third_group_ctr = df[df.exp_group == 3].ctr"
   ]
  },
  {
   "cell_type": "code",
   "execution_count": 12,
   "id": "7923393f-b19b-4b78-9132-18e483e78ff2",
   "metadata": {},
   "outputs": [],
   "source": [
    "# making a list with p-values from checking two groups using T-test\n",
    "\n",
    "p_value_list = []\n",
    "for _ in range(10000):\n",
    "    second_group_ctr_sample = second_group_ctr.sample(500, replace=False)\n",
    "    third_group_ctr_sample = third_group_ctr.sample(500, replace=False)\n",
    "    p_value = stats.ttest_ind(second_group_ctr_sample,\n",
    "                    third_group_ctr_sample,\n",
    "                    equal_var=False\n",
    "    )[1]\n",
    "    p_value_list.append(p_value)"
   ]
  },
  {
   "cell_type": "code",
   "execution_count": 13,
   "id": "c78dd0ab-2cdf-420c-ac30-53eafdaae821",
   "metadata": {},
   "outputs": [
    {
     "data": {
      "image/png": "[encoded data removed]",
      "text/plain": [
       "<Figure size 640x480 with 1 Axes>"
      ]
     },
     "metadata": {},
     "output_type": "display_data"
    }
   ],
   "source": [
    "# making a histogram to see visually the p-value distribution\n",
    "\n",
    "p_value_hist = sns.histplot(\n",
    "    data=p_value_list,\n",
    "    alpha=0.5,\n",
    "    kde=False,\n",
    "    bins=100\n",
    ")"
   ]
  },
  {
   "cell_type": "markdown",
   "id": "44c0f350-2349-4550-90c4-a2842905eebf",
   "metadata": {},
   "source": [
    "The distribution is uniform as in should be for right working split system"
   ]
  },
  {
   "cell_type": "code",
   "execution_count": 14,
   "id": "0beb2f49-5fab-468e-90c0-e137f9769bff",
   "metadata": {},
   "outputs": [
    {
     "data": {
      "text/plain": [
       "0.0452"
      ]
     },
     "execution_count": 14,
     "metadata": {},
     "output_type": "execute_result"
    }
   ],
   "source": [
    "# checking the FPR\n",
    "\n",
    "sum(pd.Series(p_value_list) < 0.05) / 10000"
   ]
  },
  {
   "cell_type": "markdown",
   "id": "d46d761c-0a35-48de-b84c-f70e3ed04d18",
   "metadata": {},
   "source": [
    "**Since the result is less than 0.05, then we can consider the split system as working properly**"
   ]
  }
 ],
 "metadata": {
  "kernelspec": {
   "display_name": "Python 3 (ipykernel)",
   "language": "python",
   "name": "python3"
  },
  "language_info": {
   "codemirror_mode": {
    "name": "ipython",
    "version": 3
   },
   "file_extension": ".py",
   "mimetype": "text/x-python",
   "name": "python",
   "nbconvert_exporter": "python",
   "pygments_lexer": "ipython3",
   "version": "3.12.7"
  }
 },
 "nbformat": 4,
 "nbformat_minor": 5
}
