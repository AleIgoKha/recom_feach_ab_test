{
 "cells": [
  {
   "cell_type": "code",
   "execution_count": 1,
   "id": "48aaa075-45bb-4ea7-9771-33d8ce951ff6",
   "metadata": {},
   "outputs": [],
   "source": [
    "# importing needed libs\n",
    "\n",
    "import numpy as np\n",
    "# import pandahouse\n",
    "import pandas as pd\n",
    "import seaborn as sns\n",
    "import matplotlib.pyplot as plt\n",
    "from scipy import stats"
   ]
  },
  {
   "cell_type": "markdown",
   "id": "0391e281-2ed7-44ea-a47b-e0fe5e7df60c",
   "metadata": {},
   "source": [
    "### Data preparation"
   ]
  },
  {
   "cell_type": "code",
   "execution_count": 2,
   "id": "28cb0baf-bb7b-4ac6-80ee-1cbc748a753d",
   "metadata": {},
   "outputs": [],
   "source": [
    "# connecting to the database and obtaining ctr date for the users in 1 and 2 experimental groups\n",
    "# for the period of time between 22 and 28 November inclusive\n",
    "\n",
    "connection = {\n",
    "    'host': '*******************',\n",
    "    'password': '**************',\n",
    "    'user': '********',\n",
    "    'database': '***********'\n",
    "}\n",
    "\n",
    "query = \"\"\"\n",
    "SELECT\n",
    "  user_id,\n",
    "  exp_group,\n",
    "  views,\n",
    "  likes,\n",
    "  ROUND(likes / views, 2) AS ctr\n",
    "FROM\n",
    "  (\n",
    "    SELECT\n",
    "      user_id,\n",
    "      exp_group,\n",
    "      sum(action = 'view') AS views,\n",
    "      sum(action = 'like') AS likes\n",
    "    FROM\n",
    "      simulator_20241220.feed_actions\n",
    "    WHERE\n",
    "      toDate(time) >= '2024-11-22'\n",
    "      AND toDate(time) <= '2024-11-28'\n",
    "      AND exp_group in (2, 1)\n",
    "    GROUP BY\n",
    "      user_id,\n",
    "      exp_group\n",
    "  )\n",
    "\"\"\"\n",
    "\n",
    "# df = pandahouse.read_clickhouse(query, connection=connection)\n",
    "\n"
   ]
  },
  {
   "cell_type": "code",
   "execution_count": 3,
   "id": "6ecdb02a-0ccd-4c7b-bbaa-a7b7945d76fb",
   "metadata": {},
   "outputs": [
    {
     "data": {
      "text/html": [
       "<div>\n",
       "<style scoped>\n",
       "    .dataframe tbody tr th:only-of-type {\n",
       "        vertical-align: middle;\n",
       "    }\n",
       "\n",
       "    .dataframe tbody tr th {\n",
       "        vertical-align: top;\n",
       "    }\n",
       "\n",
       "    .dataframe thead th {\n",
       "        text-align: right;\n",
       "    }\n",
       "</style>\n",
       "<table border=\"1\" class=\"dataframe\">\n",
       "  <thead>\n",
       "    <tr style=\"text-align: right;\">\n",
       "      <th></th>\n",
       "      <th>user_id</th>\n",
       "      <th>exp_group</th>\n",
       "      <th>views</th>\n",
       "      <th>likes</th>\n",
       "      <th>ctr</th>\n",
       "    </tr>\n",
       "  </thead>\n",
       "  <tbody>\n",
       "    <tr>\n",
       "      <th>0</th>\n",
       "      <td>109963</td>\n",
       "      <td>1</td>\n",
       "      <td>15</td>\n",
       "      <td>3</td>\n",
       "      <td>0.20</td>\n",
       "    </tr>\n",
       "    <tr>\n",
       "      <th>1</th>\n",
       "      <td>26117</td>\n",
       "      <td>1</td>\n",
       "      <td>141</td>\n",
       "      <td>32</td>\n",
       "      <td>0.23</td>\n",
       "    </tr>\n",
       "    <tr>\n",
       "      <th>2</th>\n",
       "      <td>138232</td>\n",
       "      <td>1</td>\n",
       "      <td>73</td>\n",
       "      <td>18</td>\n",
       "      <td>0.25</td>\n",
       "    </tr>\n",
       "    <tr>\n",
       "      <th>3</th>\n",
       "      <td>26295</td>\n",
       "      <td>1</td>\n",
       "      <td>141</td>\n",
       "      <td>39</td>\n",
       "      <td>0.28</td>\n",
       "    </tr>\n",
       "    <tr>\n",
       "      <th>4</th>\n",
       "      <td>18392</td>\n",
       "      <td>1</td>\n",
       "      <td>32</td>\n",
       "      <td>7</td>\n",
       "      <td>0.22</td>\n",
       "    </tr>\n",
       "  </tbody>\n",
       "</table>\n",
       "</div>"
      ],
      "text/plain": [
       "   user_id  exp_group  views  likes   ctr\n",
       "0   109963          1     15      3  0.20\n",
       "1    26117          1    141     32  0.23\n",
       "2   138232          1     73     18  0.25\n",
       "3    26295          1    141     39  0.28\n",
       "4    18392          1     32      7  0.22"
      ]
     },
     "execution_count": 3,
     "metadata": {},
     "output_type": "execute_result"
    }
   ],
   "source": [
    "# since I don't have connection to the clickhouse anymore I use the downloaded data \n",
    "\n",
    "df = pd.read_csv(\"ab_testing.csv\")\n",
    "df.head()"
   ]
  },
  {
   "cell_type": "code",
   "execution_count": 4,
   "id": "1c3149a1-1b2d-415d-be5a-0a2800fd5fae",
   "metadata": {},
   "outputs": [
    {
     "data": {
      "text/html": [
       "<div>\n",
       "<style scoped>\n",
       "    .dataframe tbody tr th:only-of-type {\n",
       "        vertical-align: middle;\n",
       "    }\n",
       "\n",
       "    .dataframe tbody tr th {\n",
       "        vertical-align: top;\n",
       "    }\n",
       "\n",
       "    .dataframe thead th {\n",
       "        text-align: right;\n",
       "    }\n",
       "</style>\n",
       "<table border=\"1\" class=\"dataframe\">\n",
       "  <thead>\n",
       "    <tr style=\"text-align: right;\">\n",
       "      <th></th>\n",
       "      <th>user_id</th>\n",
       "      <th>views</th>\n",
       "      <th>likes</th>\n",
       "      <th>ctr</th>\n",
       "    </tr>\n",
       "    <tr>\n",
       "      <th>exp_group</th>\n",
       "      <th></th>\n",
       "      <th></th>\n",
       "      <th></th>\n",
       "      <th></th>\n",
       "    </tr>\n",
       "  </thead>\n",
       "  <tbody>\n",
       "    <tr>\n",
       "      <th>1</th>\n",
       "      <td>10020</td>\n",
       "      <td>10020</td>\n",
       "      <td>10020</td>\n",
       "      <td>10020</td>\n",
       "    </tr>\n",
       "    <tr>\n",
       "      <th>2</th>\n",
       "      <td>9877</td>\n",
       "      <td>9877</td>\n",
       "      <td>9877</td>\n",
       "      <td>9877</td>\n",
       "    </tr>\n",
       "  </tbody>\n",
       "</table>\n",
       "</div>"
      ],
      "text/plain": [
       "           user_id  views  likes    ctr\n",
       "exp_group                              \n",
       "1            10020  10020  10020  10020\n",
       "2             9877   9877   9877   9877"
      ]
     },
     "execution_count": 4,
     "metadata": {},
     "output_type": "execute_result"
    }
   ],
   "source": [
    "# checking that groups are about the same size\n",
    "\n",
    "df.groupby('exp_group').count()"
   ]
  },
  {
   "cell_type": "markdown",
   "id": "ad43ca31-2f88-4e07-a510-88a76f4bf4fe",
   "metadata": {},
   "source": [
    "As we can see, the number of observations in the control and test groups is roughly the same. Let's take a visual look at the CTR distributions."
   ]
  },
  {
   "cell_type": "code",
   "execution_count": 5,
   "id": "8260b863-d760-41a0-9884-c76274c357cd",
   "metadata": {},
   "outputs": [],
   "source": [
    "# devide and save data into two groups\n",
    "\n",
    "control_group_ctr = df[df.exp_group == 1].ctr\n",
    "test_group_ctr = df[df.exp_group == 2].ctr"
   ]
  },
  {
   "cell_type": "code",
   "execution_count": 6,
   "id": "ce3a683b-4619-4841-883a-f01897b236ec",
   "metadata": {},
   "outputs": [
    {
     "data": {
      "text/plain": [
       "Text(0.5, 0, 'CTR')"
      ]
     },
     "execution_count": 6,
     "metadata": {},
     "output_type": "execute_result"
    },
    {
     "data": {
      "image/png": "[encoded data removed]",
      "text/plain": [
       "<Figure size 2400x700 with 2 Axes>"
      ]
     },
     "metadata": {},
     "output_type": "display_data"
    }
   ],
   "source": [
    "fig, axs = plt.subplots(1, 2, figsize=(24, 7))\n",
    "\n",
    "sns.histplot(ax=axs[0],\n",
    "             x=control_group_ctr,\n",
    "             color='r',\n",
    "             alpha=0.5,\n",
    "             kde=False,\n",
    "             bins=100\n",
    "            )\n",
    "axs[0].set_title('Control Group', fontsize=16)\n",
    "axs[0].set_xlabel('CTR')\n",
    "\n",
    "sns.histplot(ax=axs[1],\n",
    "             x=test_group_ctr,\n",
    "             color='b',\n",
    "             alpha=0.5,\n",
    "             kde=False,\n",
    "             bins=100\n",
    "            )\n",
    "axs[1].set_title('Test Group', fontsize=16)\n",
    "axs[1].set_xlabel('CTR')"
   ]
  },
  {
   "cell_type": "markdown",
   "id": "5dc4d332-d52a-4fbe-88dd-bc7240274166",
   "metadata": {},
   "source": [
    "In the histograms of the data, it can be seen that the distribution for the control group is close to normal, while for the test group it is not. However, since the number of observations in both groups is large (about 10,000), a T-test can be performed, although the results should be interpreted with caution. Also, since it is not possible to assess the absolute values of the means from the graphs, they should be determined."
   ]
  },
  {
   "cell_type": "code",
   "execution_count": 7,
   "id": "cad3925c-e368-49e3-a2f5-2dee215b96c5",
   "metadata": {},
   "outputs": [
    {
     "data": {
      "text/plain": [
       "'Average in control group is 0.2167 and in test group is 0.2161'"
      ]
     },
     "execution_count": 7,
     "metadata": {},
     "output_type": "execute_result"
    }
   ],
   "source": [
    "f\"Average in control group is {control_group_ctr.mean().round(4)} and in test group is {test_group_ctr.mean().round(4)}\""
   ]
  },
  {
   "cell_type": "markdown",
   "id": "7329d37c-c940-4aa1-9b10-d3276baec681",
   "metadata": {},
   "source": [
    "As can be seen above, the absolute values of the means differ only at the 4th decimal place, with the test group being smaller."
   ]
  },
  {
   "cell_type": "markdown",
   "id": "e2055be9-184a-42b5-a5d8-04be03067cc5",
   "metadata": {
    "tags": []
   },
   "source": [
    "### T-test and Mann-Whitney U test"
   ]
  },
  {
   "cell_type": "code",
   "execution_count": 8,
   "id": "3c033753-40b2-4afa-af83-b44ea03dced6",
   "metadata": {},
   "outputs": [
    {
     "data": {
      "text/plain": [
       "0.6921668985029372"
      ]
     },
     "execution_count": 8,
     "metadata": {},
     "output_type": "execute_result"
    }
   ],
   "source": [
    "# counting t-test statistics\n",
    "\n",
    "stats.ttest_ind(control_group_ctr,\n",
    "                test_group_ctr,\n",
    "                equal_var=False\n",
    "               )[1]"
   ]
  },
  {
   "cell_type": "markdown",
   "id": "d13bfbd5-235c-4889-bcff-03b6b136a5f0",
   "metadata": {},
   "source": [
    "As it can be seen, the t-test showed a p-value greater than 0.05, which would not provide enough grounds to reject the null hypothesis if the distributions for both groups were normal. To expand the factual basis for making a decision about the benefit of the new algorithm, we will also conduct the U-test. As is known, the U-test tests the hypothesis of equality of medians, so it would be useful to know their absolute values for both groups."
   ]
  },
  {
   "cell_type": "code",
   "execution_count": 9,
   "id": "b3ef12fb-f810-4f77-b2df-2c0943375016",
   "metadata": {},
   "outputs": [
    {
     "data": {
      "text/plain": [
       "0        0.20\n",
       "1        0.23\n",
       "2        0.25\n",
       "3        0.28\n",
       "4        0.22\n",
       "         ... \n",
       "19886    0.18\n",
       "19887    0.38\n",
       "19890    0.19\n",
       "19892    0.16\n",
       "19893    0.19\n",
       "Name: ctr, Length: 10020, dtype: float64"
      ]
     },
     "execution_count": 9,
     "metadata": {},
     "output_type": "execute_result"
    }
   ],
   "source": [
    "control_group_ctr"
   ]
  },
  {
   "cell_type": "code",
   "execution_count": 10,
   "id": "818a5a79-6014-403c-a855-915f10f26d22",
   "metadata": {},
   "outputs": [
    {
     "data": {
      "text/plain": [
       "'Median in control group is 0.21 and in test group is 0.15'"
      ]
     },
     "execution_count": 10,
     "metadata": {},
     "output_type": "execute_result"
    }
   ],
   "source": [
    "f\"Median in control group is {control_group_ctr.median()} and in test group is {test_group_ctr.median()}\""
   ]
  },
  {
   "cell_type": "markdown",
   "id": "7f9dd8b8-8a96-41fc-a151-d03ae89d4202",
   "metadata": {},
   "source": [
    "The median CTR in the control group is higher than in the test group, which may indicate a deterioration in the CTR of the new algorithm, and in this case, much more significantly."
   ]
  },
  {
   "cell_type": "code",
   "execution_count": 11,
   "id": "7b031ab2-25f4-4e47-a717-70cc9a7f0742",
   "metadata": {},
   "outputs": [
    {
     "data": {
      "text/plain": [
       "6.509971658856411e-45"
      ]
     },
     "execution_count": 11,
     "metadata": {},
     "output_type": "execute_result"
    }
   ],
   "source": [
    "# counting U-test statistics\n",
    "\n",
    "stats.mannwhitneyu(control_group_ctr,\n",
    "                test_group_ctr\n",
    "               )[1]"
   ]
  },
  {
   "cell_type": "markdown",
   "id": "35002f04-6989-47ac-ad87-309dc71fcb21",
   "metadata": {},
   "source": [
    "As seen, the U-test showed a p-value significantly less than 0.05, indicating a significant difference in the medians of the groups and the distributions as a whole.\n",
    "\n",
    "It would be useful to look at the data after some transformation — specifically, Laplace smoothing — to stabilize them a bit. It is unlikely to normalize the distribution of the test group, but it’s worth trying."
   ]
  },
  {
   "cell_type": "markdown",
   "id": "6840dfdb-2495-4e9e-9ebf-8d21d3f88307",
   "metadata": {
    "tags": []
   },
   "source": [
    "### Data smoothing"
   ]
  },
  {
   "cell_type": "code",
   "execution_count": 12,
   "id": "e53c2430-b8bc-42af-8259-9a532ef813a0",
   "metadata": {},
   "outputs": [],
   "source": [
    "# smoothing data function\n",
    "\n",
    "def data_smoother(likes, views, global_ctr, alpha=5):\n",
    "    smoothed_ctr = (likes + alpha * global_ctr) / (views + alpha)\n",
    "    return smoothed_ctr"
   ]
  },
  {
   "cell_type": "code",
   "execution_count": 13,
   "id": "f729c5a0-de0b-4a06-b57f-5fc106248958",
   "metadata": {},
   "outputs": [],
   "source": [
    "# deviding all data into two groups test and control and calculating global ctr for each group\n",
    "\n",
    "df_control = df.query('exp_group == 1')\n",
    "control_global_ctr = df.query('exp_group == 1').likes.sum() / df.query('exp_group == 1').views.sum()\n",
    "\n",
    "df_test = df.query('exp_group == 2')\n",
    "test_global_ctr = df.query('exp_group == 2').likes.sum() / df.query('exp_group == 2').views.sum()"
   ]
  },
  {
   "cell_type": "code",
   "execution_count": 14,
   "id": "39900213-0cf2-4c10-af81-56f3f9c7807d",
   "metadata": {
    "scrolled": true
   },
   "outputs": [
    {
     "name": "stderr",
     "output_type": "stream",
     "text": [
      "C:\\Users\\Alexey\\AppData\\Local\\Temp\\ipykernel_8608\\2397296315.py:3: SettingWithCopyWarning: \n",
      "A value is trying to be set on a copy of a slice from a DataFrame.\n",
      "Try using .loc[row_indexer,col_indexer] = value instead\n",
      "\n",
      "See the caveats in the documentation: https://pandas.pydata.org/pandas-docs/stable/user_guide/indexing.html#returning-a-view-versus-a-copy\n",
      "  df_control['smoothed_ctr'] = data_smoother(df_control.likes,\n",
      "C:\\Users\\Alexey\\AppData\\Local\\Temp\\ipykernel_8608\\2397296315.py:9: SettingWithCopyWarning: \n",
      "A value is trying to be set on a copy of a slice from a DataFrame.\n",
      "Try using .loc[row_indexer,col_indexer] = value instead\n",
      "\n",
      "See the caveats in the documentation: https://pandas.pydata.org/pandas-docs/stable/user_guide/indexing.html#returning-a-view-versus-a-copy\n",
      "  df_test['smoothed_ctr'] = data_smoother(df_test.likes,\n"
     ]
    }
   ],
   "source": [
    "# creating a new column applying smothing function\n",
    "\n",
    "df_control['smoothed_ctr'] = data_smoother(df_control.likes,\n",
    "                                   df_control.views,\n",
    "                                   control_global_ctr,\n",
    "                                   alpha=5\n",
    "                                  )\n",
    "\n",
    "df_test['smoothed_ctr'] = data_smoother(df_test.likes,\n",
    "                                   df_test.views,\n",
    "                                   test_global_ctr,\n",
    "                                   alpha=5\n",
    "                                  )"
   ]
  },
  {
   "cell_type": "code",
   "execution_count": 15,
   "id": "a306830d-fae4-4d8a-8f2c-d186453ff7a6",
   "metadata": {},
   "outputs": [
    {
     "data": {
      "text/plain": [
       "Text(0.5, 0, 'CTR')"
      ]
     },
     "execution_count": 15,
     "metadata": {},
     "output_type": "execute_result"
    },
    {
     "data": {
      "image/png": "[encoded data removed]",
      "text/plain": [
       "<Figure size 2400x1400 with 4 Axes>"
      ]
     },
     "metadata": {},
     "output_type": "display_data"
    }
   ],
   "source": [
    "# creating two plots to compare Smoothed CTR with the original CTR for the TEST group\n",
    "\n",
    "fig, axs = plt.subplots(2, 2, figsize=(24, 14))\n",
    "\n",
    "sns.histplot(ax=axs[0, 0],\n",
    "             x=df_control['smoothed_ctr'],\n",
    "             color='b',\n",
    "             alpha=0.5,\n",
    "             kde=False,\n",
    "             bins=100\n",
    "            )\n",
    "axs[0, 0].set_title('Smoothed', fontsize=16)\n",
    "axs[0, 0].set_xlabel('CTR')\n",
    "\n",
    "sns.histplot(ax=axs[0, 1],\n",
    "             x=df_control.ctr,\n",
    "             color='b',\n",
    "             alpha=0.5,\n",
    "             kde=False,\n",
    "             bins=100\n",
    "            )\n",
    "axs[0, 1].set_title('Original', fontsize=16)\n",
    "axs[0, 1].set_xlabel('CTR')\n",
    "\n",
    "sns.histplot(ax=axs[1, 0],\n",
    "             x=df_test['smoothed_ctr'],\n",
    "             color='r',\n",
    "             alpha=0.5,\n",
    "             kde=False,\n",
    "             bins=100\n",
    "            )\n",
    "axs[1, 0].set_title('Smoothed', fontsize=16)\n",
    "axs[1, 0].set_xlabel('CTR')\n",
    "\n",
    "sns.histplot(ax=axs[1, 1],\n",
    "             x=df_test.ctr,\n",
    "             color='r',\n",
    "             alpha=0.5,\n",
    "             kde=False,\n",
    "             bins=100\n",
    "            )\n",
    "axs[1, 1].set_title('Original', fontsize=16)\n",
    "axs[1, 1].set_xlabel('CTR')"
   ]
  },
  {
   "cell_type": "markdown",
   "id": "d1b9fca4-3abb-4773-b177-cdf81bf9633e",
   "metadata": {},
   "source": [
    "After smoothing the data, the graphs became smoother, and this especially helped eliminate data with a CTR of 0. However, this still didn't solve the main problem – the abnormal distribution of CTR in the test group. Nevertheless, let's try applying the T-test and U-test to the smoothed data."
   ]
  },
  {
   "cell_type": "code",
   "execution_count": 16,
   "id": "9e9e09d4-46be-46fb-9043-f9f0e454eb92",
   "metadata": {},
   "outputs": [
    {
     "data": {
      "text/plain": [
       "0.05166679015318526"
      ]
     },
     "execution_count": 16,
     "metadata": {},
     "output_type": "execute_result"
    }
   ],
   "source": [
    "stats.ttest_ind(df_control['smoothed_ctr'], df_test['smoothed_ctr'], equal_var=False)[1]"
   ]
  },
  {
   "cell_type": "code",
   "execution_count": 17,
   "id": "ab3379f7-7ab9-489b-b1ab-6acafa556b2c",
   "metadata": {},
   "outputs": [
    {
     "data": {
      "text/plain": [
       "2.396534039374286e-50"
      ]
     },
     "execution_count": 17,
     "metadata": {},
     "output_type": "execute_result"
    }
   ],
   "source": [
    "stats.mannwhitneyu(df_control['smoothed_ctr'], df_test['smoothed_ctr'])[1]"
   ]
  },
  {
   "cell_type": "markdown",
   "id": "e0cac87c-2451-4369-9a87-6e89c8563537",
   "metadata": {},
   "source": [
    "You can see that the U-test still shows significant differences, but despite the fact that the T-test still showed a p-value above 0.05, this time it is approximately equal to the threshold value. In any case, smoothing did not play a significant role, so for further analysis, we will resort to the Poisson Bootstrap."
   ]
  },
  {
   "cell_type": "markdown",
   "id": "fac33515-7994-456d-a63f-752a16480aea",
   "metadata": {},
   "source": [
    "### Bootstrap"
   ]
  },
  {
   "cell_type": "code",
   "execution_count": 18,
   "id": "0d201ee0-2eba-4ea6-8e6c-e48b566a36db",
   "metadata": {},
   "outputs": [],
   "source": [
    "# poisson bootstrap function that receives likes and views of both groups,\n",
    "# counts weight for every user by their number of likes and their encounter frequency,\n",
    "# then concidering these weights counts global ctr for both groups\n",
    "\n",
    "def bootstrap(likes_control,\n",
    "              views_control,\n",
    "              likes_test,\n",
    "              views_test\n",
    "             ):\n",
    "    \n",
    "    weight_control = stats.poisson(1).rvs((2000, len(likes_control))).astype(np.int64)\n",
    "    weight_test = stats.poisson(1).rvs((2000, len(likes_test))).astype(np.int64)\n",
    "    \n",
    "    bootstraped_ctr_control = (weight_control * likes_control).sum(axis=1) / (weight_control * views_control).sum(axis=1)\n",
    "    bootstraped_ctr_test = (weight_test * likes_test).sum(axis=1) / (weight_test * views_test).sum(axis=1)\n",
    "    \n",
    "    return bootstraped_ctr_control, bootstraped_ctr_test"
   ]
  },
  {
   "cell_type": "code",
   "execution_count": 19,
   "id": "a4bc891d-da18-485b-ace1-9401859e33f3",
   "metadata": {},
   "outputs": [],
   "source": [
    "# deviding data into likes and views for both groups\n",
    "\n",
    "likes_control = df_control.likes.to_numpy()\n",
    "views_control = df_control.views.to_numpy()\n",
    "likes_test = df_test.likes.to_numpy()\n",
    "views_test = df_test.views.to_numpy()"
   ]
  },
  {
   "cell_type": "code",
   "execution_count": 20,
   "id": "01351b41-9fad-415c-8bc7-870b2d58c73b",
   "metadata": {},
   "outputs": [],
   "source": [
    "# counting global weight CTRs for both groups\n",
    "\n",
    "bootstraped_ctr_control, bootstraped_ctr_test = bootstrap(likes_control,\n",
    "                                                          views_control,\n",
    "                                                          likes_test,\n",
    "                                                          views_test\n",
    "                                                         )"
   ]
  },
  {
   "cell_type": "code",
   "execution_count": 21,
   "id": "bf3c8dbd-353d-4b14-af50-6ff25e2af421",
   "metadata": {},
   "outputs": [
    {
     "data": {
      "text/plain": [
       "<matplotlib.legend.Legend at 0x20d7df75af0>"
      ]
     },
     "execution_count": 21,
     "metadata": {},
     "output_type": "execute_result"
    },
    {
     "data": {
      "image/png": "[encoded data removed]",
      "text/plain": [
       "<Figure size 1400x800 with 1 Axes>"
      ]
     },
     "metadata": {},
     "output_type": "display_data"
    }
   ],
   "source": [
    "# making a graph\n",
    "\n",
    "sns.set(rc={'figure.figsize':(14, 8)})\n",
    "\n",
    "sns.histplot(x=bootstraped_ctr_control,\n",
    "             kde=False,\n",
    "             label='control',\n",
    "             color='r',\n",
    "             alpha=0.5\n",
    "            )\n",
    "sns.histplot(x=bootstraped_ctr_test,\n",
    "             kde=False,\n",
    "             label='test',\n",
    "             color='b',\n",
    "             alpha=0.5\n",
    "            )\n",
    "plt.legend()"
   ]
  },
  {
   "cell_type": "markdown",
   "id": "e79c2ef9-256d-484e-b14b-3defcbd233b8",
   "metadata": {},
   "source": [
    "Even without conducting a t-test on the histograms of the bootstrapped data shown above, it is clear that the CTR in the test group is significantly different from the CTR in the control group. It is also apparent that the CTR of users in the test group is still lower than in the control group."
   ]
  },
  {
   "cell_type": "code",
   "execution_count": 22,
   "id": "f474615d-33f4-4519-a474-e7a5537c9544",
   "metadata": {},
   "outputs": [
    {
     "data": {
      "text/plain": [
       "0.0"
      ]
     },
     "execution_count": 22,
     "metadata": {},
     "output_type": "execute_result"
    }
   ],
   "source": [
    "# just to make sure\n",
    "\n",
    "stats.ttest_ind(bootstraped_ctr_control, bootstraped_ctr_test, equal_var=False)[1]"
   ]
  },
  {
   "cell_type": "markdown",
   "id": "1030ef19-6e49-4c18-a7d4-b74ee79bd9a7",
   "metadata": {},
   "source": [
    "You can see, p-value < 0.05"
   ]
  },
  {
   "cell_type": "markdown",
   "id": "b4f9f817-6aeb-4f22-b90a-e28df11565c0",
   "metadata": {},
   "source": [
    "At the moment, the data is sufficient to make a decision about implementing the new algorithm."
   ]
  },
  {
   "cell_type": "markdown",
   "id": "cbf025ee-22be-4edb-91f4-20bfa26955a5",
   "metadata": {
    "tags": []
   },
   "source": [
    "### Explanations"
   ]
  },
  {
   "cell_type": "markdown",
   "id": "da550ffa-6e9e-444c-9e1e-f3e3e4afa57f",
   "metadata": {},
   "source": [
    "**Why the tests worked this way?**\n",
    "\n",
    "The main reason why the tests worked out the way they did, in my opinion, is that the CTR distribution for the test group differs from the CTR distribution for the control group and is far from normal."
   ]
  },
  {
   "cell_type": "markdown",
   "id": "2eace09d-72d1-4641-86ab-b02cf2a3a711",
   "metadata": {},
   "source": [
    "**Why did such a change occur?**\n",
    "\n",
    "The first thing that stands out on the histogram of the CTR for the test group is bimodality, which is not present on the histogram of the CTR for the control group. The exact cause of this change cannot be determined without a more in-depth analysis."
   ]
  },
  {
   "cell_type": "code",
   "execution_count": 23,
   "id": "21faa1f1-b201-470b-a81f-9461203a70ae",
   "metadata": {},
   "outputs": [
    {
     "data": {
      "image/png": "[encoded data removed]",
      "text/plain": [
       "<Figure size 1400x800 with 1 Axes>"
      ]
     },
     "metadata": {},
     "output_type": "display_data"
    }
   ],
   "source": [
    "# first of all assessing the data visually\n",
    "sns.set(rc={'xtick.bottom': True, 'figure.figsize':(14, 8)})\n",
    "\n",
    "groups = sns.histplot(data=df,\n",
    "                    x='ctr',\n",
    "                    hue='exp_group',\n",
    "                    palette=['r', 'b'],\n",
    "                    alpha=0.5,\n",
    "                    kde=False,\n",
    "                    bins=100\n",
    ")\n",
    "\n",
    "groups.legend(labels=['test', 'control'])\n",
    "groups.minorticks_on()"
   ]
  },
  {
   "cell_type": "markdown",
   "id": "84738bab-84e0-400b-b2aa-7ce5103e253d",
   "metadata": {},
   "source": [
    "Since the histogram of the test group shows two peaks on both sides of the peak of the control group's histogram, it can be assumed that part of the users liked the algorithm, while part did not. As a result, both the proportion of those who started liking more and the proportion of those who started liking less have increased. However, it should be ensured that the new algorithm did not overall affect the audience's activity. To do this, we should at least check the total number of views."
   ]
  },
  {
   "cell_type": "code",
   "execution_count": 24,
   "id": "184f64d7-aabf-4b03-9c27-48d57c96abf5",
   "metadata": {},
   "outputs": [
    {
     "data": {
      "text/plain": [
       "'Sum of views in control group is 669543 and in test group is 659454'"
      ]
     },
     "execution_count": 24,
     "metadata": {},
     "output_type": "execute_result"
    }
   ],
   "source": [
    "f\"Sum of views in control group is {df.query('exp_group == 1').views.sum()} \\\n",
    "and in test group is {df.query('exp_group == 2').views.sum().sum()}\""
   ]
  },
  {
   "cell_type": "markdown",
   "id": "d46f9aab-14cf-4283-9dc1-0f4116c65b89",
   "metadata": {},
   "source": [
    "Since the absolute number of views in both groups is proportional, the change in CTR is most likely due to the change in the number of likes, rather than a decline in audience activity. It would also be interesting to know the proportion of users whose CTR increased and the proportion of those whose CTR decreased."
   ]
  },
  {
   "cell_type": "code",
   "execution_count": 25,
   "id": "7ebd8a62-c618-4093-b390-762c99295c4b",
   "metadata": {},
   "outputs": [
    {
     "name": "stderr",
     "output_type": "stream",
     "text": [
      "C:\\Users\\Alexey\\AppData\\Local\\Temp\\ipykernel_8608\\3572823477.py:3: FutureWarning: Series.__getitem__ treating keys as positions is deprecated. In a future version, integer keys will always be treated as labels (consistent with DataFrame behavior). To access a value by position, use `ser.iloc[pos]`\n",
      "  lower_med = round(df.query('exp_group == 2 and ctr < @df_control_median').count()[0] * 100 / df.query('exp_group == 2').count()[0], 2)\n",
      "C:\\Users\\Alexey\\AppData\\Local\\Temp\\ipykernel_8608\\3572823477.py:3: FutureWarning: Series.__getitem__ treating keys as positions is deprecated. In a future version, integer keys will always be treated as labels (consistent with DataFrame behavior). To access a value by position, use `ser.iloc[pos]`\n",
      "  lower_med = round(df.query('exp_group == 2 and ctr < @df_control_median').count()[0] * 100 / df.query('exp_group == 2').count()[0], 2)\n",
      "C:\\Users\\Alexey\\AppData\\Local\\Temp\\ipykernel_8608\\3572823477.py:4: FutureWarning: Series.__getitem__ treating keys as positions is deprecated. In a future version, integer keys will always be treated as labels (consistent with DataFrame behavior). To access a value by position, use `ser.iloc[pos]`\n",
      "  higher_med = round(df.query('exp_group == 2 and ctr >= @df_control_median').count()[0] * 100 / df.query('exp_group == 2').count()[0], 2)\n",
      "C:\\Users\\Alexey\\AppData\\Local\\Temp\\ipykernel_8608\\3572823477.py:4: FutureWarning: Series.__getitem__ treating keys as positions is deprecated. In a future version, integer keys will always be treated as labels (consistent with DataFrame behavior). To access a value by position, use `ser.iloc[pos]`\n",
      "  higher_med = round(df.query('exp_group == 2 and ctr >= @df_control_median').count()[0] * 100 / df.query('exp_group == 2').count()[0], 2)\n"
     ]
    },
    {
     "data": {
      "text/plain": [
       "'In the CTR distribution of the test group 44.95% of users now have CTR higher and 55.05% lower compared to the median value of the CTR data of the control group'"
      ]
     },
     "execution_count": 25,
     "metadata": {},
     "output_type": "execute_result"
    }
   ],
   "source": [
    "df_control_median = df.query('exp_group == 1').ctr.median()\n",
    "\n",
    "lower_med = round(df.query('exp_group == 2 and ctr < @df_control_median').count()[0] * 100 / df.query('exp_group == 2').count()[0], 2)\n",
    "higher_med = round(df.query('exp_group == 2 and ctr >= @df_control_median').count()[0] * 100 / df.query('exp_group == 2').count()[0], 2)\n",
    "\n",
    "f\"In the CTR distribution of the test group {higher_med}% of users now have CTR higher and\\\n",
    " {lower_med}% lower compared to the median value of the CTR data of the control group\""
   ]
  },
  {
   "cell_type": "markdown",
   "id": "f90a3397-0fb8-4740-90ed-5bf6c5b1fbff",
   "metadata": {},
   "source": [
    "As seen above, the CTR of most users in the test group decreased relative to the median CTR of the control group. Unfortunately, this once again confirms that, most likely, the number of people who did not like the algorithm is greater than the number of those who did."
   ]
  },
  {
   "cell_type": "markdown",
   "id": "1bb1801e-aa5f-428f-973f-73a21bb1186c",
   "metadata": {},
   "source": [
    "**Recommendation for the Implementation of the New Algorithm**\n",
    "\n",
    "As a result of comparing the data for the control and test groups, it was found that:\n",
    "\n",
    "- The data shows significant differences expressed in the distribution of CTR.\n",
    "- The data shows significant differences reflected in the p-value obtained by applying a t-test on bootstrapped data and a u-test on the original data.\n",
    "- The absolute values of medians and means on the original data are lower in the test group than in the control group.\n",
    "- On bootstrapped data, the CTR of users in the test group is lower than in the control group.\n",
    "- In the test group, the number of users with CTR below the median CTR value of the test group has increased.\n",
    "- In conclusion, it can be stated that the new recommendation algorithm performs worse than the current one.\n",
    "\n",
    "Recommendations:\n",
    "1. Implementing the new algorithm for all users is not advisable, as it has shown significant worse results.\n",
    "2. Since there is a portion of users whose CTR increased, there is a reason to further refine the algorithm."
   ]
  }
 ],
 "metadata": {
  "kernelspec": {
   "display_name": "Python 3 (ipykernel)",
   "language": "python",
   "name": "python3"
  },
  "language_info": {
   "codemirror_mode": {
    "name": "ipython",
    "version": 3
   },
   "file_extension": ".py",
   "mimetype": "text/x-python",
   "name": "python",
   "nbconvert_exporter": "python",
   "pygments_lexer": "ipython3",
   "version": "3.12.7"
  }
 },
 "nbformat": 4,
 "nbformat_minor": 5
}
