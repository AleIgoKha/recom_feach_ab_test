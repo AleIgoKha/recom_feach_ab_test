{
 "cells": [
  {
   "cell_type": "code",
   "execution_count": 1,
   "id": "48aaa075-45bb-4ea7-9771-33d8ce951ff6",
   "metadata": {},
   "outputs": [],
   "source": [
    "# importing needed libs\n",
    "\n",
    "import numpy as np\n",
    "import pandahouse\n",
    "import pandas as pd\n",
    "import seaborn as sns\n",
    "import matplotlib.pyplot as plt\n",
    "from scipy import stats"
   ]
  },
  {
   "cell_type": "markdown",
   "id": "0391e281-2ed7-44ea-a47b-e0fe5e7df60c",
   "metadata": {},
   "source": [
    "### Подготовка данных"
   ]
  },
  {
   "cell_type": "code",
   "execution_count": 2,
   "id": "28cb0baf-bb7b-4ac6-80ee-1cbc748a753d",
   "metadata": {},
   "outputs": [
    {
     "data": {
      "text/html": [
       "<div>\n",
       "<style scoped>\n",
       "    .dataframe tbody tr th:only-of-type {\n",
       "        vertical-align: middle;\n",
       "    }\n",
       "\n",
       "    .dataframe tbody tr th {\n",
       "        vertical-align: top;\n",
       "    }\n",
       "\n",
       "    .dataframe thead th {\n",
       "        text-align: right;\n",
       "    }\n",
       "</style>\n",
       "<table border=\"1\" class=\"dataframe\">\n",
       "  <thead>\n",
       "    <tr style=\"text-align: right;\">\n",
       "      <th></th>\n",
       "      <th>user_id</th>\n",
       "      <th>exp_group</th>\n",
       "      <th>views</th>\n",
       "      <th>likes</th>\n",
       "      <th>ctr</th>\n",
       "    </tr>\n",
       "  </thead>\n",
       "  <tbody>\n",
       "    <tr>\n",
       "      <th>0</th>\n",
       "      <td>109963</td>\n",
       "      <td>1</td>\n",
       "      <td>15</td>\n",
       "      <td>3</td>\n",
       "      <td>0.20</td>\n",
       "    </tr>\n",
       "    <tr>\n",
       "      <th>1</th>\n",
       "      <td>26117</td>\n",
       "      <td>1</td>\n",
       "      <td>141</td>\n",
       "      <td>32</td>\n",
       "      <td>0.23</td>\n",
       "    </tr>\n",
       "    <tr>\n",
       "      <th>2</th>\n",
       "      <td>138232</td>\n",
       "      <td>1</td>\n",
       "      <td>73</td>\n",
       "      <td>18</td>\n",
       "      <td>0.25</td>\n",
       "    </tr>\n",
       "    <tr>\n",
       "      <th>3</th>\n",
       "      <td>26295</td>\n",
       "      <td>1</td>\n",
       "      <td>141</td>\n",
       "      <td>39</td>\n",
       "      <td>0.28</td>\n",
       "    </tr>\n",
       "    <tr>\n",
       "      <th>4</th>\n",
       "      <td>18392</td>\n",
       "      <td>1</td>\n",
       "      <td>32</td>\n",
       "      <td>7</td>\n",
       "      <td>0.22</td>\n",
       "    </tr>\n",
       "  </tbody>\n",
       "</table>\n",
       "</div>"
      ],
      "text/plain": [
       "   user_id  exp_group  views  likes   ctr\n",
       "0   109963          1     15      3  0.20\n",
       "1    26117          1    141     32  0.23\n",
       "2   138232          1     73     18  0.25\n",
       "3    26295          1    141     39  0.28\n",
       "4    18392          1     32      7  0.22"
      ]
     },
     "execution_count": 2,
     "metadata": {},
     "output_type": "execute_result"
    }
   ],
   "source": [
    "# connecting to the database and obtaining ctr date for the users in 1 and 2 experimental groups\n",
    "# for the period of time between 22 and 28 November inclusive\n",
    "\n",
    "connection = {\n",
    "    'host': 'https://clickhouse.lab.karpov.courses',\n",
    "    'password': 'dpo_python_2020',\n",
    "    'user': 'student',\n",
    "    'database': 'simulator_20241220'\n",
    "}\n",
    "\n",
    "query = \"\"\"\n",
    "SELECT\n",
    "  user_id,\n",
    "  exp_group,\n",
    "  views,\n",
    "  likes,\n",
    "  ROUND(likes / views, 2) AS ctr\n",
    "FROM\n",
    "  (\n",
    "    SELECT\n",
    "      user_id,\n",
    "      exp_group,\n",
    "      sum(action = 'view') AS views,\n",
    "      sum(action = 'like') AS likes\n",
    "    FROM\n",
    "      simulator_20241220.feed_actions\n",
    "    WHERE\n",
    "      toDate(time) >= '2024-11-22'\n",
    "      AND toDate(time) <= '2024-11-28'\n",
    "      AND exp_group in (2, 1)\n",
    "    GROUP BY\n",
    "      user_id,\n",
    "      exp_group\n",
    "  )\n",
    "\"\"\"\n",
    "\n",
    "df = pandahouse.read_clickhouse(query, connection=connection)\n",
    "\n",
    "df.head()"
   ]
  },
  {
   "cell_type": "code",
   "execution_count": 3,
   "id": "1c3149a1-1b2d-415d-be5a-0a2800fd5fae",
   "metadata": {},
   "outputs": [
    {
     "data": {
      "text/html": [
       "<div>\n",
       "<style scoped>\n",
       "    .dataframe tbody tr th:only-of-type {\n",
       "        vertical-align: middle;\n",
       "    }\n",
       "\n",
       "    .dataframe tbody tr th {\n",
       "        vertical-align: top;\n",
       "    }\n",
       "\n",
       "    .dataframe thead th {\n",
       "        text-align: right;\n",
       "    }\n",
       "</style>\n",
       "<table border=\"1\" class=\"dataframe\">\n",
       "  <thead>\n",
       "    <tr style=\"text-align: right;\">\n",
       "      <th></th>\n",
       "      <th>user_id</th>\n",
       "      <th>views</th>\n",
       "      <th>likes</th>\n",
       "      <th>ctr</th>\n",
       "    </tr>\n",
       "    <tr>\n",
       "      <th>exp_group</th>\n",
       "      <th></th>\n",
       "      <th></th>\n",
       "      <th></th>\n",
       "      <th></th>\n",
       "    </tr>\n",
       "  </thead>\n",
       "  <tbody>\n",
       "    <tr>\n",
       "      <th>1</th>\n",
       "      <td>10020</td>\n",
       "      <td>10020</td>\n",
       "      <td>10020</td>\n",
       "      <td>10020</td>\n",
       "    </tr>\n",
       "    <tr>\n",
       "      <th>2</th>\n",
       "      <td>9877</td>\n",
       "      <td>9877</td>\n",
       "      <td>9877</td>\n",
       "      <td>9877</td>\n",
       "    </tr>\n",
       "  </tbody>\n",
       "</table>\n",
       "</div>"
      ],
      "text/plain": [
       "           user_id  views  likes    ctr\n",
       "exp_group                              \n",
       "1            10020  10020  10020  10020\n",
       "2             9877   9877   9877   9877"
      ]
     },
     "execution_count": 3,
     "metadata": {},
     "output_type": "execute_result"
    }
   ],
   "source": [
    "# checking that groups are about the same size\n",
    "\n",
    "df.groupby('exp_group').count()"
   ]
  },
  {
   "cell_type": "markdown",
   "id": "ad43ca31-2f88-4e07-a510-88a76f4bf4fe",
   "metadata": {},
   "source": [
    "Как видно, количество наблюдений в контрольной и тестовой группах примерно одинаковое. Посмотрим на распределения CTR визуально."
   ]
  },
  {
   "cell_type": "code",
   "execution_count": 4,
   "id": "8260b863-d760-41a0-9884-c76274c357cd",
   "metadata": {},
   "outputs": [],
   "source": [
    "# devide and save data into two groups\n",
    "\n",
    "control_group_ctr = df[df.exp_group == 1].ctr\n",
    "test_group_ctr = df[df.exp_group == 2].ctr"
   ]
  },
  {
   "cell_type": "code",
   "execution_count": 5,
   "id": "ce3a683b-4619-4841-883a-f01897b236ec",
   "metadata": {},
   "outputs": [
    {
     "data": {
      "text/plain": [
       "Text(0.5, 0, 'CTR')"
      ]
     },
     "execution_count": 5,
     "metadata": {},
     "output_type": "execute_result"
    },
    {
     "data": {
      "image/png": "[encoded data removed]",
      "text/plain": [
       "<Figure size 1728x504 with 2 Axes>"
      ]
     },
     "metadata": {
      "needs_background": "light"
     },
     "output_type": "display_data"
    }
   ],
   "source": [
    "fig, axs = plt.subplots(1, 2, figsize=(24, 7))\n",
    "\n",
    "sns.histplot(ax=axs[0],\n",
    "             x=control_group_ctr,\n",
    "             color='r',\n",
    "             alpha=0.5,\n",
    "             kde=False,\n",
    "             bins=100\n",
    "            )\n",
    "axs[0].set_title('Control Group', fontsize=16)\n",
    "axs[0].set_xlabel('CTR')\n",
    "\n",
    "sns.histplot(ax=axs[1],\n",
    "             x=test_group_ctr,\n",
    "             color='b',\n",
    "             alpha=0.5,\n",
    "             kde=False,\n",
    "             bins=100\n",
    "            )\n",
    "axs[1].set_title('Test Group', fontsize=16)\n",
    "axs[1].set_xlabel('CTR')"
   ]
  },
  {
   "cell_type": "markdown",
   "id": "5dc4d332-d52a-4fbe-88dd-bc7240274166",
   "metadata": {},
   "source": [
    "На гистограммах данных видно, что распределение для контрольной группы близкое к нормальному, в то время как для тестовой группы нет, но так как количество наблюдений в обеих группах большое (около 10 тыс.), то можно провести Т-тест, однако с осторожностью подходя к интерпретации результатов. Так же, по скольку на графиках невозможно оценить абсолютные значения средних, их следует узнать."
   ]
  },
  {
   "cell_type": "code",
   "execution_count": 6,
   "id": "cad3925c-e368-49e3-a2f5-2dee215b96c5",
   "metadata": {},
   "outputs": [
    {
     "data": {
      "text/plain": [
       "'Average in control group is 0.2167 and in test group is 0.2161'"
      ]
     },
     "execution_count": 6,
     "metadata": {},
     "output_type": "execute_result"
    }
   ],
   "source": [
    "f\"Average in control group is {control_group_ctr.mean().round(4)} and in test group is {test_group_ctr.mean().round(4)}\""
   ]
  },
  {
   "cell_type": "markdown",
   "id": "7329d37c-c940-4aa1-9b10-d3276baec681",
   "metadata": {},
   "source": [
    "Как можно видеть выше, абсолютные значения средних отличаются лишь на 4-й знак после запятой, причем у тестовой группы меньше. "
   ]
  },
  {
   "cell_type": "markdown",
   "id": "e2055be9-184a-42b5-a5d8-04be03067cc5",
   "metadata": {
    "tags": []
   },
   "source": [
    "### Т-тест и U-тест Манна-Уитни"
   ]
  },
  {
   "cell_type": "code",
   "execution_count": 7,
   "id": "3c033753-40b2-4afa-af83-b44ea03dced6",
   "metadata": {},
   "outputs": [
    {
     "data": {
      "text/plain": [
       "0.6921668985029372"
      ]
     },
     "execution_count": 7,
     "metadata": {},
     "output_type": "execute_result"
    }
   ],
   "source": [
    "# counting t-test statistics\n",
    "\n",
    "stats.ttest_ind(control_group_ctr,\n",
    "                test_group_ctr,\n",
    "                equal_var=False\n",
    "               )[1]"
   ]
  },
  {
   "cell_type": "markdown",
   "id": "d13bfbd5-235c-4889-bcff-03b6b136a5f0",
   "metadata": {},
   "source": [
    "Как видно Т-тест показал значение p-value больше 0.05, что не могло бы дать достаточно оснований для отклонений нулевой гипотезы, если бы распределения для обеих групп были нормальными. Чтобы расширить базу фактов для принятия решения о пользе нового алгоритма проведем так же U-тест. Как известно, U-тест проверяет гипотезу о равности медиан, поэтому было бы не плохо узнать их абсолютные значения для обеих групп."
   ]
  },
  {
   "cell_type": "code",
   "execution_count": 8,
   "id": "b3ef12fb-f810-4f77-b2df-2c0943375016",
   "metadata": {},
   "outputs": [
    {
     "data": {
      "text/plain": [
       "0        0.20\n",
       "1        0.23\n",
       "2        0.25\n",
       "3        0.28\n",
       "4        0.22\n",
       "         ... \n",
       "19886    0.18\n",
       "19887    0.38\n",
       "19890    0.19\n",
       "19892    0.16\n",
       "19893    0.19\n",
       "Name: ctr, Length: 10020, dtype: float64"
      ]
     },
     "execution_count": 8,
     "metadata": {},
     "output_type": "execute_result"
    }
   ],
   "source": [
    "control_group_ctr"
   ]
  },
  {
   "cell_type": "code",
   "execution_count": 9,
   "id": "818a5a79-6014-403c-a855-915f10f26d22",
   "metadata": {},
   "outputs": [
    {
     "data": {
      "text/plain": [
       "'Median in control group is 0.21 and in test group is 0.15'"
      ]
     },
     "execution_count": 9,
     "metadata": {},
     "output_type": "execute_result"
    }
   ],
   "source": [
    "f\"Median in control group is {control_group_ctr.median()} and in test group is {test_group_ctr.median()}\""
   ]
  },
  {
   "cell_type": "markdown",
   "id": "7f9dd8b8-8a96-41fc-a151-d03ae89d4202",
   "metadata": {},
   "source": [
    "Медианный CTR в контрольной группе выше, чем в тестовой, что может говорить об ухудшении CTR нового алгоритма, и в данном случае намного значительнее."
   ]
  },
  {
   "cell_type": "code",
   "execution_count": 10,
   "id": "7b031ab2-25f4-4e47-a717-70cc9a7f0742",
   "metadata": {},
   "outputs": [
    {
     "data": {
      "text/plain": [
       "6.509971658856411e-45"
      ]
     },
     "execution_count": 10,
     "metadata": {},
     "output_type": "execute_result"
    }
   ],
   "source": [
    "# counting U-test statistics\n",
    "\n",
    "stats.mannwhitneyu(control_group_ctr,\n",
    "                test_group_ctr\n",
    "               )[1]"
   ]
  },
  {
   "cell_type": "markdown",
   "id": "35002f04-6989-47ac-ad87-309dc71fcb21",
   "metadata": {},
   "source": [
    "Как видно U-test показал p-value значительно меньше 0.05, что говорит о значимом различии в медианах групп и распределений в целом.\n",
    "\n",
    "Было бы полезно посмотреть на данные после некоторого преобразования - в частности сглаживания Лапласа, чтобы несколько стабилизировать их. Врядли это приведет к нормализации распределения тестовой группы, но попробовать стоит."
   ]
  },
  {
   "cell_type": "markdown",
   "id": "6840dfdb-2495-4e9e-9ebf-8d21d3f88307",
   "metadata": {
    "tags": []
   },
   "source": [
    "### Сглаживание данных"
   ]
  },
  {
   "cell_type": "code",
   "execution_count": 11,
   "id": "e53c2430-b8bc-42af-8259-9a532ef813a0",
   "metadata": {},
   "outputs": [],
   "source": [
    "# smoothing data function\n",
    "\n",
    "def data_smoother(likes, views, global_ctr, alpha=5):\n",
    "    smoothed_ctr = (likes + alpha * global_ctr) / (views + alpha)\n",
    "    return smoothed_ctr"
   ]
  },
  {
   "cell_type": "code",
   "execution_count": 12,
   "id": "f729c5a0-de0b-4a06-b57f-5fc106248958",
   "metadata": {},
   "outputs": [],
   "source": [
    "# deviding all data into two groups test and control and calculating global ctr for each group\n",
    "\n",
    "df_control = df.query('exp_group == 1')\n",
    "control_global_ctr = df.query('exp_group == 1').likes.sum() / df.query('exp_group == 1').views.sum()\n",
    "\n",
    "df_test = df.query('exp_group == 2')\n",
    "test_global_ctr = df.query('exp_group == 2').likes.sum() / df.query('exp_group == 2').views.sum()"
   ]
  },
  {
   "cell_type": "code",
   "execution_count": 13,
   "id": "39900213-0cf2-4c10-af81-56f3f9c7807d",
   "metadata": {},
   "outputs": [
    {
     "name": "stderr",
     "output_type": "stream",
     "text": [
      "/tmp/ipykernel_93/2397296315.py:3: SettingWithCopyWarning: \n",
      "A value is trying to be set on a copy of a slice from a DataFrame.\n",
      "Try using .loc[row_indexer,col_indexer] = value instead\n",
      "\n",
      "See the caveats in the documentation: https://pandas.pydata.org/pandas-docs/stable/user_guide/indexing.html#returning-a-view-versus-a-copy\n",
      "  df_control['smoothed_ctr'] = data_smoother(df_control.likes,\n",
      "/tmp/ipykernel_93/2397296315.py:9: SettingWithCopyWarning: \n",
      "A value is trying to be set on a copy of a slice from a DataFrame.\n",
      "Try using .loc[row_indexer,col_indexer] = value instead\n",
      "\n",
      "See the caveats in the documentation: https://pandas.pydata.org/pandas-docs/stable/user_guide/indexing.html#returning-a-view-versus-a-copy\n",
      "  df_test['smoothed_ctr'] = data_smoother(df_test.likes,\n"
     ]
    }
   ],
   "source": [
    "# creating a new column applying smothing function\n",
    "\n",
    "df_control['smoothed_ctr'] = data_smoother(df_control.likes,\n",
    "                                   df_control.views,\n",
    "                                   control_global_ctr,\n",
    "                                   alpha=5\n",
    "                                  )\n",
    "\n",
    "df_test['smoothed_ctr'] = data_smoother(df_test.likes,\n",
    "                                   df_test.views,\n",
    "                                   test_global_ctr,\n",
    "                                   alpha=5\n",
    "                                  )"
   ]
  },
  {
   "cell_type": "code",
   "execution_count": 14,
   "id": "a306830d-fae4-4d8a-8f2c-d186453ff7a6",
   "metadata": {},
   "outputs": [
    {
     "data": {
      "text/plain": [
       "Text(0.5, 0, 'CTR')"
      ]
     },
     "execution_count": 14,
     "metadata": {},
     "output_type": "execute_result"
    },
    {
     "data": {
      "image/png": "[encoded data removed]",
      "text/plain": [
       "<Figure size 1728x1008 with 4 Axes>"
      ]
     },
     "metadata": {
      "needs_background": "light"
     },
     "output_type": "display_data"
    }
   ],
   "source": [
    "# creating two plots to compare Smoothed CTR with the original CTR for the TEST group\n",
    "\n",
    "fig, axs = plt.subplots(2, 2, figsize=(24, 14))\n",
    "\n",
    "sns.histplot(ax=axs[0, 0],\n",
    "             x=df_control['smoothed_ctr'],\n",
    "             color='b',\n",
    "             alpha=0.5,\n",
    "             kde=False,\n",
    "             bins=100\n",
    "            )\n",
    "axs[0, 0].set_title('Smoothed', fontsize=16)\n",
    "axs[0, 0].set_xlabel('CTR')\n",
    "\n",
    "sns.histplot(ax=axs[0, 1],\n",
    "             x=df_control.ctr,\n",
    "             color='b',\n",
    "             alpha=0.5,\n",
    "             kde=False,\n",
    "             bins=100\n",
    "            )\n",
    "axs[0, 1].set_title('Original', fontsize=16)\n",
    "axs[0, 1].set_xlabel('CTR')\n",
    "\n",
    "sns.histplot(ax=axs[1, 0],\n",
    "             x=df_test['smoothed_ctr'],\n",
    "             color='r',\n",
    "             alpha=0.5,\n",
    "             kde=False,\n",
    "             bins=100\n",
    "            )\n",
    "axs[1, 0].set_title('Smoothed', fontsize=16)\n",
    "axs[1, 0].set_xlabel('CTR')\n",
    "\n",
    "sns.histplot(ax=axs[1, 1],\n",
    "             x=df_test.ctr,\n",
    "             color='r',\n",
    "             alpha=0.5,\n",
    "             kde=False,\n",
    "             bins=100\n",
    "            )\n",
    "axs[1, 1].set_title('Original', fontsize=16)\n",
    "axs[1, 1].set_xlabel('CTR')"
   ]
  },
  {
   "cell_type": "markdown",
   "id": "d1b9fca4-3abb-4773-b177-cdf81bf9633e",
   "metadata": {},
   "source": [
    "После сглаживания данных графики приняли более плавный вид, особенно это позволило избавиться от данных с CTR равным 0, однако это так и не решило основную проблему - ненормальность распределения CTR в тестовой группе. Тем не менее попробуем применить Т-тест и U-тест на сглаженных данных."
   ]
  },
  {
   "cell_type": "code",
   "execution_count": 15,
   "id": "9e9e09d4-46be-46fb-9043-f9f0e454eb92",
   "metadata": {},
   "outputs": [
    {
     "data": {
      "text/plain": [
       "0.05166679015318526"
      ]
     },
     "execution_count": 15,
     "metadata": {},
     "output_type": "execute_result"
    }
   ],
   "source": [
    "stats.ttest_ind(df_control['smoothed_ctr'], df_test['smoothed_ctr'], equal_var=False)[1]"
   ]
  },
  {
   "cell_type": "code",
   "execution_count": 16,
   "id": "ab3379f7-7ab9-489b-b1ab-6acafa556b2c",
   "metadata": {},
   "outputs": [
    {
     "data": {
      "text/plain": [
       "2.396534039374286e-50"
      ]
     },
     "execution_count": 16,
     "metadata": {},
     "output_type": "execute_result"
    }
   ],
   "source": [
    "stats.mannwhitneyu(df_control['smoothed_ctr'], df_test['smoothed_ctr'])[1]"
   ]
  },
  {
   "cell_type": "markdown",
   "id": "e0cac87c-2451-4369-9a87-6e89c8563537",
   "metadata": {},
   "source": [
    "Как можно увидеть U-тест все так же дает значимые различия, но несмотря на то, что Т-тест все еще показал p-value выше 0.05, на этот раз уже приблизительно равно пороговому значению. Так или иначе, особой роли сглаживание не сыграло, поэтому для дальнейшего анализа прибегнем к Пуассновскому Бутстрапу."
   ]
  },
  {
   "cell_type": "markdown",
   "id": "fac33515-7994-456d-a63f-752a16480aea",
   "metadata": {},
   "source": [
    "### Bootstrap"
   ]
  },
  {
   "cell_type": "code",
   "execution_count": 17,
   "id": "0d201ee0-2eba-4ea6-8e6c-e48b566a36db",
   "metadata": {},
   "outputs": [],
   "source": [
    "# poisson bootstrap function that receives likes and views of both groups,\n",
    "# counts weight for every user by their number of likes and their encounter frequency,\n",
    "# then concidering these weights counts global ctr for both groups\n",
    "\n",
    "def bootstrap(likes_control,\n",
    "              views_control,\n",
    "              likes_test,\n",
    "              views_test\n",
    "             ):\n",
    "    \n",
    "    weight_control = stats.poisson(1).rvs((2000, len(likes_control))).astype(np.int64)\n",
    "    weight_test = stats.poisson(1).rvs((2000, len(likes_test))).astype(np.int64)\n",
    "    \n",
    "    bootstraped_ctr_control = (weight_control * likes_control).sum(axis=1) / (weight_control * views_control).sum(axis=1)\n",
    "    bootstraped_ctr_test = (weight_test * likes_test).sum(axis=1) / (weight_test * views_test).sum(axis=1)\n",
    "    \n",
    "    return bootstraped_ctr_control, bootstraped_ctr_test"
   ]
  },
  {
   "cell_type": "code",
   "execution_count": 18,
   "id": "a4bc891d-da18-485b-ace1-9401859e33f3",
   "metadata": {},
   "outputs": [],
   "source": [
    "# deviding data into likes and views for both groups\n",
    "\n",
    "likes_control = df_control.likes.to_numpy()\n",
    "views_control = df_control.views.to_numpy()\n",
    "likes_test = df_test.likes.to_numpy()\n",
    "views_test = df_test.views.to_numpy()"
   ]
  },
  {
   "cell_type": "code",
   "execution_count": 19,
   "id": "01351b41-9fad-415c-8bc7-870b2d58c73b",
   "metadata": {},
   "outputs": [],
   "source": [
    "# counting global weight CTRs for both groups\n",
    "\n",
    "bootstraped_ctr_control, bootstraped_ctr_test = bootstrap(likes_control,\n",
    "                                                          views_control,\n",
    "                                                          likes_test,\n",
    "                                                          views_test\n",
    "                                                         )"
   ]
  },
  {
   "cell_type": "code",
   "execution_count": 20,
   "id": "bf3c8dbd-353d-4b14-af50-6ff25e2af421",
   "metadata": {},
   "outputs": [
    {
     "data": {
      "text/plain": [
       "<matplotlib.legend.Legend at 0x7f8b83a924f0>"
      ]
     },
     "execution_count": 20,
     "metadata": {},
     "output_type": "execute_result"
    },
    {
     "data": {
      "image/png": "[encoded data removed]",
      "text/plain": [
       "<Figure size 1008x576 with 1 Axes>"
      ]
     },
     "metadata": {},
     "output_type": "display_data"
    }
   ],
   "source": [
    "# making a graph\n",
    "\n",
    "sns.set(rc={'figure.figsize':(14, 8)})\n",
    "\n",
    "sns.histplot(x=bootstraped_ctr_control,\n",
    "             kde=False,\n",
    "             label='control',\n",
    "             color='r',\n",
    "             alpha=0.5\n",
    "            )\n",
    "sns.histplot(x=bootstraped_ctr_test,\n",
    "             kde=False,\n",
    "             label='test',\n",
    "             color='b',\n",
    "             alpha=0.5\n",
    "            )\n",
    "plt.legend()"
   ]
  },
  {
   "cell_type": "markdown",
   "id": "972efb0b-183d-4a09-8c91-c19dbdf716eb",
   "metadata": {},
   "source": [
    "### "
   ]
  },
  {
   "cell_type": "markdown",
   "id": "e79c2ef9-256d-484e-b14b-3defcbd233b8",
   "metadata": {},
   "source": [
    "Даже без проведения T-теста по гистограммам бутстропированных данных приведенным выше видно, что CTR в тестовой группе значимо отличается от CTR в контрольной группе. Так же видно, что CTR пользователей в тестовой группе все так же меньше, чем в контрольной."
   ]
  },
  {
   "cell_type": "code",
   "execution_count": 21,
   "id": "f474615d-33f4-4519-a474-e7a5537c9544",
   "metadata": {},
   "outputs": [
    {
     "data": {
      "text/plain": [
       "0.0"
      ]
     },
     "execution_count": 21,
     "metadata": {},
     "output_type": "execute_result"
    }
   ],
   "source": [
    "# just to make sure\n",
    "\n",
    "stats.ttest_ind(bootstraped_ctr_control, bootstraped_ctr_test, equal_var=False)[1]"
   ]
  },
  {
   "cell_type": "markdown",
   "id": "1030ef19-6e49-4c18-a7d4-b74ee79bd9a7",
   "metadata": {},
   "source": [
    "Как видно, p-value < 0.05"
   ]
  },
  {
   "cell_type": "markdown",
   "id": "b4f9f817-6aeb-4f22-b90a-e28df11565c0",
   "metadata": {},
   "source": [
    "На данный момент для принятия решения о внедрении нового алгоритма данных достаточно."
   ]
  },
  {
   "cell_type": "markdown",
   "id": "cbf025ee-22be-4edb-91f4-20bfa26955a5",
   "metadata": {
    "tags": []
   },
   "source": [
    "### Пояснения"
   ]
  },
  {
   "cell_type": "markdown",
   "id": "da550ffa-6e9e-444c-9e1e-f3e3e4afa57f",
   "metadata": {},
   "source": [
    "**Почему тесты так сработали?**\n",
    "\n",
    "Главная причина, почему тесты сработали именно так, на мой взгляд в том, что распределение CTR у тестовой группы отличается от распределения CTR у контрольной группы и далеко от нормального."
   ]
  },
  {
   "cell_type": "markdown",
   "id": "2eace09d-72d1-4641-86ab-b02cf2a3a711",
   "metadata": {},
   "source": [
    "**Почему произошло такое изменение?**\n",
    "\n",
    "Первое что бросается в глаза на гистрограмме CTR тестовой группы - это бимодальность, чего нет на гистограмме CTR контрольной. Сказать однозначно причину такого изменения нельзя, без более глубокого анализа."
   ]
  },
  {
   "cell_type": "code",
   "execution_count": 22,
   "id": "21faa1f1-b201-470b-a81f-9461203a70ae",
   "metadata": {},
   "outputs": [
    {
     "data": {
      "image/png": "[encoded data removed]",
      "text/plain": [
       "<Figure size 1008x576 with 1 Axes>"
      ]
     },
     "metadata": {},
     "output_type": "display_data"
    }
   ],
   "source": [
    "# first of all assessing the data visually\n",
    "sns.set(rc={'xtick.bottom': True, 'figure.figsize':(14, 8)})\n",
    "\n",
    "groups = sns.histplot(data=df,\n",
    "                    x='ctr',\n",
    "                    hue='exp_group',\n",
    "                    palette=['r', 'b'],\n",
    "                    alpha=0.5,\n",
    "                    kde=False,\n",
    "                    bins=100\n",
    ")\n",
    "\n",
    "groups.legend(labels=['test', 'control'])\n",
    "groups.minorticks_on()"
   ]
  },
  {
   "cell_type": "markdown",
   "id": "84738bab-84e0-400b-b2aa-7ce5103e253d",
   "metadata": {},
   "source": [
    "Так как на гистограмме тестовой группы наблюдается два пика по обе стороны относительно пика гистограммы контрольной группы, то можно предположить, что части пользователей алгоритм понравился, а части нет. Соответственно увеличилась как доля тех, кто начал ставить больше лайков, так и доля тех кто начал ставить меньше лайков. Однако следует убедиться что новый алгоритм в целом не повлиял на активность аудитории. Для этого как минимум проверим общее количество просмотров."
   ]
  },
  {
   "cell_type": "code",
   "execution_count": 23,
   "id": "184f64d7-aabf-4b03-9c27-48d57c96abf5",
   "metadata": {},
   "outputs": [
    {
     "data": {
      "text/plain": [
       "'Sum of views in control group is 669543 and in test group is 659454'"
      ]
     },
     "execution_count": 23,
     "metadata": {},
     "output_type": "execute_result"
    }
   ],
   "source": [
    "f\"Sum of views in control group is {df.query('exp_group == 1').views.sum()} \\\n",
    "and in test group is {df.query('exp_group == 2').views.sum().sum()}\""
   ]
  },
  {
   "cell_type": "markdown",
   "id": "d46f9aab-14cf-4283-9dc1-0f4116c65b89",
   "metadata": {},
   "source": [
    "Так как абсолютное количество просмотров в обеих группах соразмерно, то изменение CTR скорее всего обусловлено изменением количества лайков, а не падением активности аудитории. Еще интересно было бы узнать доли пользователей у которых CTR вырос, и долю тех у кого упал."
   ]
  },
  {
   "cell_type": "code",
   "execution_count": 24,
   "id": "7ebd8a62-c618-4093-b390-762c99295c4b",
   "metadata": {},
   "outputs": [
    {
     "data": {
      "text/plain": [
       "'In the CTR distribution of the test group 44.95% of users now have CTR higher and 55.05% lower compared to the median value of the CTR data of the control group'"
      ]
     },
     "execution_count": 24,
     "metadata": {},
     "output_type": "execute_result"
    }
   ],
   "source": [
    "df_control_median = df.query('exp_group == 1').ctr.median()\n",
    "\n",
    "lower_med = round(df.query('exp_group == 2 and ctr < @df_control_median').count()[0] * 100 / df.query('exp_group == 2').count()[0], 2)\n",
    "higher_med = round(df.query('exp_group == 2 and ctr >= @df_control_median').count()[0] * 100 / df.query('exp_group == 2').count()[0], 2)\n",
    "\n",
    "f\"In the CTR distribution of the test group {higher_med}% of users now have CTR higher and\\\n",
    " {lower_med}% lower compared to the median value of the CTR data of the control group\""
   ]
  },
  {
   "cell_type": "markdown",
   "id": "f90a3397-0fb8-4740-90ed-5bf6c5b1fbff",
   "metadata": {},
   "source": [
    "Как видно выше CTR большей части пользователей в тестовой группе снизился относительно медианного значения CTR контрольной группы. Это к сожалению в очередной раз подтверждает, что скорее всего количество тех кому алгоритм не понравился больше чем тех кому да."
   ]
  },
  {
   "cell_type": "markdown",
   "id": "1bb1801e-aa5f-428f-973f-73a21bb1186c",
   "metadata": {},
   "source": [
    "**Рекомендация по поводу внедрения нового алгоритма**\n",
    "\n",
    "В результате сравнения данных для контрольной и тестовой групп было установлено, что:\n",
    "- данные имеют значимые различия выраженные в характере распределения CTR\n",
    "- данные имеют значимые различия выраженные в значении p-value полученного применением t-теста на бутстрапированных данных и u-теста на исходных данных\n",
    "- абсолютные значения медиан и средних на оригинальных данных меньше в тестовой группе, чем в контрольной\n",
    "- на бутстрапированных данных CTR пользователей в тестовой группе меньше, чем в контрольной\n",
    "- в тестовой группе количество пользователей с CTR ниже медианого значения CTR тестовой группы возросло\n",
    "\n",
    "В качестве итога можно сказать что новый алгоритм рекомендаций отличается от текущего в худшую сторону.\n",
    "\n",
    "Рекомендации:\n",
    "1. Внедрение нового алгоритма для всех пользователей нецелесообразно, по скольку он показал значимый результат в худшую сторону.\n",
    "2. Так как есть часть пользователей у которых CTR вырос, есть смысл в доработке алгоритма.\n"
   ]
  }
 ],
 "metadata": {
  "kernelspec": {
   "display_name": "Python 3 (ipykernel)",
   "language": "python",
   "name": "python3"
  },
  "language_info": {
   "codemirror_mode": {
    "name": "ipython",
    "version": 3
   },
   "file_extension": ".py",
   "mimetype": "text/x-python",
   "name": "python",
   "nbconvert_exporter": "python",
   "pygments_lexer": "ipython3",
   "version": "3.8.10"
  }
 },
 "nbformat": 4,
 "nbformat_minor": 5
}
